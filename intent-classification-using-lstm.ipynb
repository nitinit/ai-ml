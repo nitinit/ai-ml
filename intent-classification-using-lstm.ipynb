{
 "cells": [
  {
   "cell_type": "code",
   "execution_count": 1,
   "id": "51e9857f",
   "metadata": {
    "_cell_guid": "b1076dfc-b9ad-4769-8c92-a6c4dae69d19",
    "_uuid": "8f2839f25d086af736a60e9eeb907d3b93b6e0e5",
    "execution": {
     "iopub.execute_input": "2023-06-04T09:24:31.207694Z",
     "iopub.status.busy": "2023-06-04T09:24:31.207252Z",
     "iopub.status.idle": "2023-06-04T09:24:31.278675Z",
     "shell.execute_reply": "2023-06-04T09:24:31.277770Z"
    },
    "papermill": {
     "duration": 0.081557,
     "end_time": "2023-06-04T09:24:31.281452",
     "exception": false,
     "start_time": "2023-06-04T09:24:31.199895",
     "status": "completed"
    },
    "tags": []
   },
   "outputs": [],
   "source": [
    "import pandas as pd\n",
    "import numpy as np\n",
    "\n",
    "df_train=pd.read_csv(\"/kaggle/input/atis-airlinetravelinformationsystem/atis_intents_train.csv\")\n",
    "df_test=pd.read_csv(\"/kaggle/input/atis-airlinetravelinformationsystem/atis_intents_test.csv\")"
   ]
  },
  {
   "cell_type": "code",
   "execution_count": 2,
   "id": "d9521cf2",
   "metadata": {
    "execution": {
     "iopub.execute_input": "2023-06-04T09:24:31.294080Z",
     "iopub.status.busy": "2023-06-04T09:24:31.293469Z",
     "iopub.status.idle": "2023-06-04T09:24:31.323610Z",
     "shell.execute_reply": "2023-06-04T09:24:31.322491Z"
    },
    "papermill": {
     "duration": 0.039754,
     "end_time": "2023-06-04T09:24:31.326293",
     "exception": false,
     "start_time": "2023-06-04T09:24:31.286539",
     "status": "completed"
    },
    "tags": []
   },
   "outputs": [
    {
     "data": {
      "text/html": [
       "<div>\n",
       "<style scoped>\n",
       "    .dataframe tbody tr th:only-of-type {\n",
       "        vertical-align: middle;\n",
       "    }\n",
       "\n",
       "    .dataframe tbody tr th {\n",
       "        vertical-align: top;\n",
       "    }\n",
       "\n",
       "    .dataframe thead th {\n",
       "        text-align: right;\n",
       "    }\n",
       "</style>\n",
       "<table border=\"1\" class=\"dataframe\">\n",
       "  <thead>\n",
       "    <tr style=\"text-align: right;\">\n",
       "      <th></th>\n",
       "      <th>label</th>\n",
       "      <th>query</th>\n",
       "    </tr>\n",
       "  </thead>\n",
       "  <tbody>\n",
       "    <tr>\n",
       "      <th>0</th>\n",
       "      <td>atis_flight</td>\n",
       "      <td>what flights are available from pittsburgh to...</td>\n",
       "    </tr>\n",
       "    <tr>\n",
       "      <th>1</th>\n",
       "      <td>atis_flight_time</td>\n",
       "      <td>what is the arrival time in san francisco for...</td>\n",
       "    </tr>\n",
       "    <tr>\n",
       "      <th>2</th>\n",
       "      <td>atis_airfare</td>\n",
       "      <td>cheapest airfare from tacoma to orlando</td>\n",
       "    </tr>\n",
       "    <tr>\n",
       "      <th>3</th>\n",
       "      <td>atis_airfare</td>\n",
       "      <td>round trip fares from pittsburgh to philadelp...</td>\n",
       "    </tr>\n",
       "    <tr>\n",
       "      <th>4</th>\n",
       "      <td>atis_flight</td>\n",
       "      <td>i need a flight tomorrow from columbus to min...</td>\n",
       "    </tr>\n",
       "  </tbody>\n",
       "</table>\n",
       "</div>"
      ],
      "text/plain": [
       "              label                                              query\n",
       "0       atis_flight   what flights are available from pittsburgh to...\n",
       "1  atis_flight_time   what is the arrival time in san francisco for...\n",
       "2      atis_airfare            cheapest airfare from tacoma to orlando\n",
       "3      atis_airfare   round trip fares from pittsburgh to philadelp...\n",
       "4       atis_flight   i need a flight tomorrow from columbus to min..."
      ]
     },
     "execution_count": 2,
     "metadata": {},
     "output_type": "execute_result"
    }
   ],
   "source": [
    "df_train.columns = ['label', 'query']\n",
    "df_train.head()"
   ]
  },
  {
   "cell_type": "code",
   "execution_count": 3,
   "id": "4f898366",
   "metadata": {
    "execution": {
     "iopub.execute_input": "2023-06-04T09:24:31.339548Z",
     "iopub.status.busy": "2023-06-04T09:24:31.339127Z",
     "iopub.status.idle": "2023-06-04T09:24:31.349216Z",
     "shell.execute_reply": "2023-06-04T09:24:31.347749Z"
    },
    "papermill": {
     "duration": 0.019816,
     "end_time": "2023-06-04T09:24:31.351617",
     "exception": false,
     "start_time": "2023-06-04T09:24:31.331801",
     "status": "completed"
    },
    "tags": []
   },
   "outputs": [
    {
     "data": {
      "text/plain": [
       "0            atis_flight\n",
       "1       atis_flight_time\n",
       "2           atis_airfare\n",
       "3           atis_airfare\n",
       "4            atis_flight\n",
       "              ...       \n",
       "4828        atis_airfare\n",
       "4829         atis_flight\n",
       "4830        atis_airline\n",
       "4831         atis_flight\n",
       "4832         atis_flight\n",
       "Name: label, Length: 4833, dtype: object"
      ]
     },
     "execution_count": 3,
     "metadata": {},
     "output_type": "execute_result"
    }
   ],
   "source": [
    "df_train['label']"
   ]
  },
  {
   "cell_type": "code",
   "execution_count": 4,
   "id": "73191641",
   "metadata": {
    "execution": {
     "iopub.execute_input": "2023-06-04T09:24:31.365490Z",
     "iopub.status.busy": "2023-06-04T09:24:31.364689Z",
     "iopub.status.idle": "2023-06-04T09:24:31.375720Z",
     "shell.execute_reply": "2023-06-04T09:24:31.374398Z"
    },
    "papermill": {
     "duration": 0.020816,
     "end_time": "2023-06-04T09:24:31.378255",
     "exception": false,
     "start_time": "2023-06-04T09:24:31.357439",
     "status": "completed"
    },
    "tags": []
   },
   "outputs": [
    {
     "data": {
      "text/plain": [
       "array(['atis_flight', 'atis_flight_time', 'atis_airfare', 'atis_aircraft',\n",
       "       'atis_ground_service', 'atis_airline', 'atis_abbreviation',\n",
       "       'atis_quantity'], dtype=object)"
      ]
     },
     "execution_count": 4,
     "metadata": {},
     "output_type": "execute_result"
    }
   ],
   "source": [
    "df_train['label'].unique()"
   ]
  },
  {
   "cell_type": "code",
   "execution_count": 5,
   "id": "09c67d4f",
   "metadata": {
    "execution": {
     "iopub.execute_input": "2023-06-04T09:24:31.390888Z",
     "iopub.status.busy": "2023-06-04T09:24:31.390526Z",
     "iopub.status.idle": "2023-06-04T09:24:32.837906Z",
     "shell.execute_reply": "2023-06-04T09:24:32.836745Z"
    },
    "papermill": {
     "duration": 1.457107,
     "end_time": "2023-06-04T09:24:32.840816",
     "exception": false,
     "start_time": "2023-06-04T09:24:31.383709",
     "status": "completed"
    },
    "tags": []
   },
   "outputs": [],
   "source": [
    "from sklearn.preprocessing import LabelEncoder\n",
    "\n",
    "# instantiate label encoder object\n",
    "le = LabelEncoder()\n",
    "\n",
    "\n",
    "df_train['label'] = le.fit_transform(df_train['label'])"
   ]
  },
  {
   "cell_type": "code",
   "execution_count": 6,
   "id": "ab1b0779",
   "metadata": {
    "execution": {
     "iopub.execute_input": "2023-06-04T09:24:32.853148Z",
     "iopub.status.busy": "2023-06-04T09:24:32.852694Z",
     "iopub.status.idle": "2023-06-04T09:24:32.862758Z",
     "shell.execute_reply": "2023-06-04T09:24:32.861927Z"
    },
    "papermill": {
     "duration": 0.01901,
     "end_time": "2023-06-04T09:24:32.865200",
     "exception": false,
     "start_time": "2023-06-04T09:24:32.846190",
     "status": "completed"
    },
    "tags": []
   },
   "outputs": [
    {
     "data": {
      "text/html": [
       "<div>\n",
       "<style scoped>\n",
       "    .dataframe tbody tr th:only-of-type {\n",
       "        vertical-align: middle;\n",
       "    }\n",
       "\n",
       "    .dataframe tbody tr th {\n",
       "        vertical-align: top;\n",
       "    }\n",
       "\n",
       "    .dataframe thead th {\n",
       "        text-align: right;\n",
       "    }\n",
       "</style>\n",
       "<table border=\"1\" class=\"dataframe\">\n",
       "  <thead>\n",
       "    <tr style=\"text-align: right;\">\n",
       "      <th></th>\n",
       "      <th>label</th>\n",
       "      <th>query</th>\n",
       "    </tr>\n",
       "  </thead>\n",
       "  <tbody>\n",
       "    <tr>\n",
       "      <th>0</th>\n",
       "      <td>4</td>\n",
       "      <td>what flights are available from pittsburgh to...</td>\n",
       "    </tr>\n",
       "    <tr>\n",
       "      <th>1</th>\n",
       "      <td>5</td>\n",
       "      <td>what is the arrival time in san francisco for...</td>\n",
       "    </tr>\n",
       "    <tr>\n",
       "      <th>2</th>\n",
       "      <td>2</td>\n",
       "      <td>cheapest airfare from tacoma to orlando</td>\n",
       "    </tr>\n",
       "    <tr>\n",
       "      <th>3</th>\n",
       "      <td>2</td>\n",
       "      <td>round trip fares from pittsburgh to philadelp...</td>\n",
       "    </tr>\n",
       "    <tr>\n",
       "      <th>4</th>\n",
       "      <td>4</td>\n",
       "      <td>i need a flight tomorrow from columbus to min...</td>\n",
       "    </tr>\n",
       "  </tbody>\n",
       "</table>\n",
       "</div>"
      ],
      "text/plain": [
       "   label                                              query\n",
       "0      4   what flights are available from pittsburgh to...\n",
       "1      5   what is the arrival time in san francisco for...\n",
       "2      2            cheapest airfare from tacoma to orlando\n",
       "3      2   round trip fares from pittsburgh to philadelp...\n",
       "4      4   i need a flight tomorrow from columbus to min..."
      ]
     },
     "execution_count": 6,
     "metadata": {},
     "output_type": "execute_result"
    }
   ],
   "source": [
    "df_train.head()"
   ]
  },
  {
   "cell_type": "code",
   "execution_count": 7,
   "id": "0665e2a4",
   "metadata": {
    "execution": {
     "iopub.execute_input": "2023-06-04T09:24:32.879136Z",
     "iopub.status.busy": "2023-06-04T09:24:32.878457Z",
     "iopub.status.idle": "2023-06-04T09:24:43.099559Z",
     "shell.execute_reply": "2023-06-04T09:24:43.097846Z"
    },
    "papermill": {
     "duration": 10.231009,
     "end_time": "2023-06-04T09:24:43.102041",
     "exception": false,
     "start_time": "2023-06-04T09:24:32.871032",
     "status": "completed"
    },
    "tags": []
   },
   "outputs": [
    {
     "name": "stderr",
     "output_type": "stream",
     "text": [
      "/opt/conda/lib/python3.10/site-packages/tensorflow_io/python/ops/__init__.py:98: UserWarning: unable to load libtensorflow_io_plugins.so: unable to open file: libtensorflow_io_plugins.so, from paths: ['/opt/conda/lib/python3.10/site-packages/tensorflow_io/python/ops/libtensorflow_io_plugins.so']\n",
      "caused by: ['/opt/conda/lib/python3.10/site-packages/tensorflow_io/python/ops/libtensorflow_io_plugins.so: undefined symbol: _ZN3tsl6StatusC1EN10tensorflow5error4CodeESt17basic_string_viewIcSt11char_traitsIcEENS_14SourceLocationE']\n",
      "  warnings.warn(f\"unable to load libtensorflow_io_plugins.so: {e}\")\n",
      "/opt/conda/lib/python3.10/site-packages/tensorflow_io/python/ops/__init__.py:104: UserWarning: file system plugins are not loaded: unable to open file: libtensorflow_io.so, from paths: ['/opt/conda/lib/python3.10/site-packages/tensorflow_io/python/ops/libtensorflow_io.so']\n",
      "caused by: ['/opt/conda/lib/python3.10/site-packages/tensorflow_io/python/ops/libtensorflow_io.so: undefined symbol: _ZTVN10tensorflow13GcsFileSystemE']\n",
      "  warnings.warn(f\"file system plugins are not loaded: {e}\")\n"
     ]
    },
    {
     "name": "stdout",
     "output_type": "stream",
     "text": [
      "Found 871 unique tokens.\n",
      "Shape of data tensor: (4833, 10)\n",
      "Shape of label tensor: (4833, 8)\n"
     ]
    }
   ],
   "source": [
    "\n",
    "from keras.preprocessing.text import Tokenizer\n",
    "\n",
    "from keras.utils import pad_sequences\n",
    "from keras.utils import to_categorical\n",
    "MAX_SEQUENCE_LENGTH = 10\n",
    "MAX_NUM_WORDS = 5000\n",
    "tokenizer = Tokenizer(num_words=MAX_NUM_WORDS)\n",
    "tokenizer.fit_on_texts(df_train['query'])\n",
    "sequences = tokenizer.texts_to_sequences(df_train['query'])\n",
    "word_index = tokenizer.word_index\n",
    "print('Found %s unique tokens.' % len(word_index))\n",
    "data = pad_sequences(sequences, maxlen=MAX_SEQUENCE_LENGTH)\n",
    "labels = to_categorical(df_train['label'])\n",
    "x_train=data\n",
    "y_train=labels\n",
    "print('Shape of data tensor:', data.shape)\n",
    "print('Shape of label tensor:', labels.shape)"
   ]
  },
  {
   "cell_type": "code",
   "execution_count": 8,
   "id": "b499cbdc",
   "metadata": {
    "execution": {
     "iopub.execute_input": "2023-06-04T09:24:43.116300Z",
     "iopub.status.busy": "2023-06-04T09:24:43.115522Z",
     "iopub.status.idle": "2023-06-04T09:24:43.557337Z",
     "shell.execute_reply": "2023-06-04T09:24:43.556083Z"
    },
    "papermill": {
     "duration": 0.452145,
     "end_time": "2023-06-04T09:24:43.560154",
     "exception": false,
     "start_time": "2023-06-04T09:24:43.108009",
     "status": "completed"
    },
    "tags": []
   },
   "outputs": [],
   "source": [
    "from keras.layers import Dense, Input, GlobalMaxPooling1D\n",
    "from keras.layers import Conv1D, MaxPooling1D, Embedding, Flatten\n",
    "from keras.models import Model\n",
    "from keras.models import Sequential\n",
    "from keras.layers import LSTM\n",
    "atis_rnnmodel = Sequential()\n",
    "atis_rnnmodel.add(Embedding(MAX_NUM_WORDS, 128))\n",
    "atis_rnnmodel.add(LSTM(128, dropout=0.2, recurrent_dropout=0.2))\n",
    "atis_rnnmodel.add(Dense((8), activation='sigmoid'))\n",
    "atis_rnnmodel.compile(loss='binary_crossentropy',\n",
    " optimizer='adam',\n",
    " metrics= ['accuracy'])"
   ]
  },
  {
   "cell_type": "code",
   "execution_count": 9,
   "id": "89c0e099",
   "metadata": {
    "execution": {
     "iopub.execute_input": "2023-06-04T09:24:43.575183Z",
     "iopub.status.busy": "2023-06-04T09:24:43.574223Z",
     "iopub.status.idle": "2023-06-04T09:25:05.943098Z",
     "shell.execute_reply": "2023-06-04T09:25:05.942213Z"
    },
    "papermill": {
     "duration": 22.378737,
     "end_time": "2023-06-04T09:25:05.945336",
     "exception": false,
     "start_time": "2023-06-04T09:24:43.566599",
     "status": "completed"
    },
    "tags": []
   },
   "outputs": [
    {
     "name": "stdout",
     "output_type": "stream",
     "text": [
      "Epoch 1/10\n",
      "31/31 [==============================] - 6s 78ms/step - loss: 0.4108 - accuracy: 0.7268 - val_loss: 0.2046 - val_accuracy: 0.7497\n",
      "Epoch 2/10\n",
      "31/31 [==============================] - 2s 58ms/step - loss: 0.1919 - accuracy: 0.7605 - val_loss: 0.1896 - val_accuracy: 0.7497\n",
      "Epoch 3/10\n",
      "31/31 [==============================] - 2s 56ms/step - loss: 0.1773 - accuracy: 0.7610 - val_loss: 0.1628 - val_accuracy: 0.7642\n",
      "Epoch 4/10\n",
      "31/31 [==============================] - 2s 55ms/step - loss: 0.1427 - accuracy: 0.7781 - val_loss: 0.1250 - val_accuracy: 0.8128\n",
      "Epoch 5/10\n",
      "31/31 [==============================] - 2s 58ms/step - loss: 0.1173 - accuracy: 0.8319 - val_loss: 0.1078 - val_accuracy: 0.8728\n",
      "Epoch 6/10\n",
      "31/31 [==============================] - 2s 57ms/step - loss: 0.1004 - accuracy: 0.8771 - val_loss: 0.1030 - val_accuracy: 0.8707\n",
      "Epoch 7/10\n",
      "31/31 [==============================] - 2s 57ms/step - loss: 0.0867 - accuracy: 0.8934 - val_loss: 0.0825 - val_accuracy: 0.9069\n",
      "Epoch 8/10\n",
      "31/31 [==============================] - 2s 58ms/step - loss: 0.0745 - accuracy: 0.9040 - val_loss: 0.0757 - val_accuracy: 0.9131\n",
      "Epoch 9/10\n",
      "31/31 [==============================] - 2s 57ms/step - loss: 0.0658 - accuracy: 0.9139 - val_loss: 0.0694 - val_accuracy: 0.9193\n",
      "Epoch 10/10\n",
      "31/31 [==============================] - 2s 56ms/step - loss: 0.0588 - accuracy: 0.9227 - val_loss: 0.0644 - val_accuracy: 0.9286\n"
     ]
    }
   ],
   "source": [
    "history=atis_rnnmodel.fit(x_train, y_train,\n",
    "epochs=10,\n",
    "batch_size=128,\n",
    "validation_split=0.2)"
   ]
  },
  {
   "cell_type": "code",
   "execution_count": 10,
   "id": "f7f6824e",
   "metadata": {
    "execution": {
     "iopub.execute_input": "2023-06-04T09:25:06.014288Z",
     "iopub.status.busy": "2023-06-04T09:25:06.013168Z",
     "iopub.status.idle": "2023-06-04T09:25:06.711375Z",
     "shell.execute_reply": "2023-06-04T09:25:06.710066Z"
    },
    "papermill": {
     "duration": 0.734855,
     "end_time": "2023-06-04T09:25:06.713838",
     "exception": false,
     "start_time": "2023-06-04T09:25:05.978983",
     "status": "completed"
    },
    "tags": []
   },
   "outputs": [
    {
     "data": {
      "image/png": "[encoded data removed]",
      "text/plain": [
       "<Figure size 640x480 with 1 Axes>"
      ]
     },
     "metadata": {},
     "output_type": "display_data"
    },
    {
     "data": {
      "image/png": "[encoded data removed]",
      "text/plain": [
       "<Figure size 640x480 with 1 Axes>"
      ]
     },
     "metadata": {},
     "output_type": "display_data"
    }
   ],
   "source": [
    "import matplotlib.pyplot as plt\n",
    "acc = history.history['accuracy']\n",
    "val_acc = history.history['val_accuracy']\n",
    "loss = history.history['loss']\n",
    "val_loss = history.history['val_loss']\n",
    "epochs = range(1, len(acc) + 1)\n",
    "plt.plot(epochs, acc, 'bo', label='Training acc')\n",
    "plt.plot(epochs, val_acc, 'b', label='Validation acc')\n",
    "plt.title('Training and validation accuracy')\n",
    "plt.legend()\n",
    "plt.figure()\n",
    "plt.plot(epochs, loss, 'bo', label='Training loss')\n",
    "plt.plot(epochs, val_loss, 'b', label='Validation loss')\n",
    "plt.title('Training and validation loss')\n",
    "plt.legend()\n",
    "plt.show()\n"
   ]
  },
  {
   "cell_type": "code",
   "execution_count": 11,
   "id": "618002ed",
   "metadata": {
    "execution": {
     "iopub.execute_input": "2023-06-04T09:25:06.783984Z",
     "iopub.status.busy": "2023-06-04T09:25:06.783122Z",
     "iopub.status.idle": "2023-06-04T09:25:07.193204Z",
     "shell.execute_reply": "2023-06-04T09:25:07.191916Z"
    },
    "papermill": {
     "duration": 0.448345,
     "end_time": "2023-06-04T09:25:07.196182",
     "exception": false,
     "start_time": "2023-06-04T09:25:06.747837",
     "status": "completed"
    },
    "tags": []
   },
   "outputs": [
    {
     "name": "stdout",
     "output_type": "stream",
     "text": [
      "1/1 [==============================] - 0s 346ms/step\n",
      "[2]\n"
     ]
    }
   ],
   "source": [
    "Xnew=[\"fare of flights  from columbus to chennai\"]\n",
    "sequences_new = tokenizer.texts_to_sequences(Xnew)\n",
    "data = pad_sequences(sequences_new, maxlen=MAX_SEQUENCE_LENGTH)\n",
    "\n",
    "yprob = atis_rnnmodel.predict(data)\n",
    "yclasses=yprob.argmax(axis=-1)\n",
    "# show the inputs and predicted outputs\n",
    "print(yclasses)"
   ]
  },
  {
   "cell_type": "code",
   "execution_count": 12,
   "id": "b81f5ec4",
   "metadata": {
    "execution": {
     "iopub.execute_input": "2023-06-04T09:25:07.270169Z",
     "iopub.status.busy": "2023-06-04T09:25:07.269202Z",
     "iopub.status.idle": "2023-06-04T09:25:07.322273Z",
     "shell.execute_reply": "2023-06-04T09:25:07.321085Z"
    },
    "papermill": {
     "duration": 0.093632,
     "end_time": "2023-06-04T09:25:07.325333",
     "exception": false,
     "start_time": "2023-06-04T09:25:07.231701",
     "status": "completed"
    },
    "tags": []
   },
   "outputs": [],
   "source": [
    "atis_rnnmodel.save(\"intent classification.h5\")"
   ]
  }
 ],
 "metadata": {
  "kernelspec": {
   "display_name": "Python 3",
   "language": "python",
   "name": "python3"
  },
  "language_info": {
   "codemirror_mode": {
    "name": "ipython",
    "version": 3
   },
   "file_extension": ".py",
   "mimetype": "text/x-python",
   "name": "python",
   "nbconvert_exporter": "python",
   "pygments_lexer": "ipython3",
   "version": "3.10.10"
  },
  "papermill": {
   "default_parameters": {},
   "duration": 53.012171,
   "end_time": "2023-06-04T09:25:10.689716",
   "environment_variables": {},
   "exception": null,
   "input_path": "__notebook__.ipynb",
   "output_path": "__notebook__.ipynb",
   "parameters": {},
   "start_time": "2023-06-04T09:24:17.677545",
   "version": "2.4.0"
  }
 },
 "nbformat": 4,
 "nbformat_minor": 5
}
