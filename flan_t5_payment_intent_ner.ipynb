
{
 "cells": [
  {
   "cell_type": "markdown",
   "metadata": {},
   "source": [
    "# 💳 FLAN-T5 for Payment Intent and Slot Extraction\n",
    "This notebook fine-tunes `google/flan-t5-base` to extract payment-related intents and slots from user commands like \"Send $200 to Alice tomorrow\"."
   ]
  },
  {
   "cell_type": "code",
   "metadata": {},
   "source": [
    "!pip install transformers datasets evaluate --quiet"
   ],
   "execution_count": null,
   "outputs": []
  },
  {
   "cell_type": "code",
   "metadata": {},
   "source": [
    "from transformers import AutoTokenizer, AutoModelForSeq2SeqLM, Seq2SeqTrainer, Seq2SeqTrainingArguments\n",
    "from datasets import Dataset\n",
    "import random"
   ],
   "execution_count": null,
   "outputs": []
  },
  {
   "cell_type": "code",
   "metadata": {},
   "source": [
    "examples = [\n",
    "    {\n",
    "        'input': 'Send $200 to Alice tomorrow',\n",
    "        'target': 'Intent: SendMoney | Slots: amount=$200, recipient=Alice, date=tomorrow'\n",
    "    },\n",
    "    {\n",
    "        'input': 'Pay John 150 for dinner',\n",
    "        'target': 'Intent: SendMoney | Slots: amount=150, recipient=John, reason=dinner'\n",
    "    },\n",
    "    {\n",
    "        'input': 'Request $75 from Mike for groceries',\n",
    "        'target': 'Intent: RequestMoney | Slots: amount=$75, sender=Mike, reason=groceries'\n",
    "    },\n",
    "    {\n",
    "        'input': 'Remind me to pay rent on the 1st',\n",
    "        'target': 'Intent: SetReminder | Slots: reason=rent, date=1st'\n",
    "    }\n",
    "]\n",
    "dataset = Dataset.from_list(examples)"
   ],
   "execution_count": null,
   "outputs": []
  },
  {
   "cell_type": "code",
   "metadata": {},
   "source": [
    "model_name = 'google/flan-t5-base'\n",
    "tokenizer = AutoTokenizer.from_pretrained(model_name)\n",
    "model = AutoModelForSeq2SeqLM.from_pretrained(model_name)"
   ],
   "execution_count": null,
   "outputs": []
  },
  {
   "cell_type": "code",
   "metadata": {},
   "source": [
    "def preprocess(example):\n",
    "    model_input = tokenizer(example['input'], truncation=True, padding='max_length', max_length=64)\n",
    "    labels = tokenizer(example['target'], truncation=True, padding='max_length', max_length=64)\n",
    "    model_input['labels'] = labels['input_ids']\n",
    "    return model_input\n",
    "\n",
    "tokenized_dataset = dataset.map(preprocess)"
   ],
   "execution_count": null,
   "outputs": []
  },
  {
   "cell_type": "code",
   "metadata": {},
   "source": [
    "training_args = Seq2SeqTrainingArguments(\n",
    "    output_dir='./results',\n",
    "    evaluation_strategy='no',\n",
    "    per_device_train_batch_size=2,\n",
    "    num_train_epochs=10,\n",
    "    logging_steps=5,\n",
    "    save_steps=10,\n",
    "    save_total_limit=1\n",
    ")"
   ],
   "execution_count": null,
   "outputs": []
  },
  {
   "cell_type": "code",
   "metadata": {},
   "source": [
    "trainer = Seq2SeqTrainer(\n",
    "    model=model,\n",
    "    args=training_args,\n",
    "    train_dataset=tokenized_dataset\n",
    ")\n",
    "trainer.train()"
   ],
   "execution_count": null,
   "outputs": []
  },
  {
   "cell_type": "code",
   "metadata": {},
   "source": [
    "input_text = 'Transfer 300 dollars to Mom next week'\n",
    "inputs = tokenizer(input_text, return_tensors='pt')\n",
    "outputs = model.generate(**inputs)\n",
    "print('Prediction:', tokenizer.decode(outputs[0], skip_special_tokens=True))"
   ],
   "execution_count": null,
   "outputs": []
  }
 ],
 "metadata": {
  "kernelspec": {
   "display_name": "Python 3",
   "language": "python",
   "name": "python3"
  },
  "language_info": {
   "name": "python"
  }
 },
 "nbformat": 4,
 "nbformat_minor": 2
}
