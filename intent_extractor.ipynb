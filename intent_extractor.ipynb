{
 "cells": [
  {
   "cell_type": "code",
   "source": [
    "from langchain.chat_models import ChatOpenAI\n",
    "from langchain.schema import SystemMessage, HumanMessage\n",
    "import json\n",
    "\n",
    "llm = ChatOpenAI(model=\"gpt-4-1106-preview\", temperature=0)\n",
    "\n",
    "functions = [\n",
    "    {\n",
    "        \"name\": \"make_payment\",\n",
    "        \"description\": \"Extract payment intent from user input\",\n",
    "        \"parameters\": {\n",
    "            \"type\": \"object\",\n",
    "            \"properties\": {\n",
    "                \"action\": {\"type\": \"string\", \"enum\": [\"pay\"]},\n",
    "                \"recipient\": {\"type\": \"string\"},\n",
    "                \"amount\": {\"type\": \"number\"},\n",
    "                \"currency\": {\"type\": \"string\"}\n",
    "            },\n",
    "            \"required\": [\"action\", \"recipient\", \"amount\", \"currency\"]\n",
    "        }\n",
    "    }\n",
    "]\n",
    "\n",
    "def extract_intent(text):\n",
    "    messages = [\n",
    "        SystemMessage(content=\"Extract the intent from the user command and return it as JSON.\"),\n",
    "        HumanMessage(content=text)\n",
    "    ]\n",
    "\n",
    "    response = llm.invoke(messages, functions=functions, function_call=\"auto\")\n",
    "    return json.loads(response.additional_kwargs[\"function_call\"][\"arguments\"])\n",
    "\n",
    "# Example\n",
    "extract_intent(\"Pay Sophia 200 bucks\")"
   ],
   "metadata": {},
   "execution_count": null,
   "outputs": []
  }
 ],
 "metadata": {},
 "nbformat": 4,
 "nbformat_minor": 2
}
