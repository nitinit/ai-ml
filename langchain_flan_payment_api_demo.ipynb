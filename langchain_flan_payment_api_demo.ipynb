
{
 "cells": [
  {
   "cell_type": "markdown",
   "metadata": {},
   "source": [
    "# 🤖 LangChain + FLAN-T5 + Payment API
",
    "This notebook demonstrates how to:
",
    "1. Send user text to a FLAN-T5 API that extracts `intent` and `slots`
",
    "2. Parse the output JSON
",
    "3. Automatically call a mocked payment API based on the extracted intent"
   ]
  },
  {
   "cell_type": "code",
   "metadata": {},
   "source": [
    "!pip install transformers flask langchain requests --quiet"
   ],
   "execution_count": null,
   "outputs": []
  },
  {
   "cell_type": "code",
   "metadata": {},
   "source": [
    "# 🚀 Mock FLAN API response using JSON format
",
    "def mock_flan_api(user_text):
",
    "    if "Rahul" in user_text:
",
    "        return {
",
    "            "intent": "MakePayment",
",
    "            "slots": {
",
    "                "amount": "300",
",
    "                "recipient": "Rahul",
",
    "                "date": "tomorrow",
",
    "                "purpose": "books"
",
    "            }
",
    "        }
",
    "    elif "last transaction" in user_text:
",
    "        return {
",
    "            "intent": "CancelPayment",
",
    "            "slots": {"reference": "last transaction"}
",
    "        }
",
    "    else:
",
    "        return {"intent": "Unknown", "slots": {}}
"
   ],
   "execution_count": null,
   "outputs": []
  },
  {
   "cell_type": "code",
   "metadata": {},
   "source": [
    "# 🧠 Business logic that acts on intent
",
    "def trigger_action(intent_data):
",
    "    if intent_data["intent"] == "MakePayment":
",
    "        payload = {
",
    "            "to": intent_data["slots"].get("recipient"),
",
    "            "amount": intent_data["slots"].get("amount"),
",
    "            "reason": intent_data["slots"].get("purpose"),
",
    "            "schedule": intent_data["slots"].get("date")
",
    "        }
",
    "        print("✅ Calling payment API with:", payload)
",
    "        return payload
",
    "    elif intent_data["intent"] == "CancelPayment":
",
    "        print("❌ Cancelling payment with reference:", intent_data["slots"].get("reference"))
",
    "        return {"cancel": intent_data["slots"].get("reference")}
",
    "    else:
",
    "        print("🤷 Intent not recognized.")
",
    "        return {"error": "Unknown intent"}
"
   ],
   "execution_count": null,
   "outputs": []
  },
  {
   "cell_type": "code",
   "metadata": {},
   "source": [
    "# 💬 Simulated user interaction
",
    "user_input = "Pay 300 rupees to Rahul tomorrow for books"
",
    "intent_result = mock_flan_api(user_input)
",
    "action_result = trigger_action(intent_result)
",
    "
",
    "print("\nFinal Output:")
",
    "print(action_result)"
   ],
   "execution_count": null,
   "outputs": []
  }
 ],
 "metadata": {
  "kernelspec": {
   "display_name": "Python 3",
   "language": "python",
   "name": "python3"
  },
  "language_info": {
   "name": "python"
  }
 },
 "nbformat": 4,
 "nbformat_minor": 2
}
